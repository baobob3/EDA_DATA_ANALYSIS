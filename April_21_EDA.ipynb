{
 "cells": [
  {
   "cell_type": "code",
   "execution_count": 8,
   "metadata": {},
   "outputs": [
    {
     "data": {
      "text/html": [
       "        <script type=\"text/javascript\">\n",
       "        window.PlotlyConfig = {MathJaxConfig: 'local'};\n",
       "        if (window.MathJax) {MathJax.Hub.Config({SVG: {font: \"STIX-Web\"}});}\n",
       "        if (typeof require !== 'undefined') {\n",
       "        require.undef(\"plotly\");\n",
       "        requirejs.config({\n",
       "            paths: {\n",
       "                'plotly': ['https://cdn.plot.ly/plotly-latest.min']\n",
       "            }\n",
       "        });\n",
       "        require(['plotly'], function(Plotly) {\n",
       "            window._Plotly = Plotly;\n",
       "        });\n",
       "        }\n",
       "        </script>\n",
       "        "
      ]
     },
     "metadata": {},
     "output_type": "display_data"
    }
   ],
   "source": [
    "import os\n",
    "import numpy as np\n",
    "from numpy.random import randn\n",
    "import pandas as pd\n",
    "from scipy import stats\n",
    "import matplotlib as mpl\n",
    "import matplotlib.pyplot as plt\n",
    "import seaborn as sns\n",
    "from plotly.offline import init_notebook_mode, iplot\n",
    "init_notebook_mode(connected=True)\n",
    "%matplotlib inline\n",
    "\n",
    "dir_name='OULAD'\n",
    "\n",
    "assessments_path=os.path.join(dir_name+'/assessments.csv')\n",
    "courses_path=os.path.join(dir_name+'/courses.csv')\n",
    "studentAssessment_path=os.path.join(dir_name+'/studentAssessment.csv')\n",
    "studentInfo_path=os.path.join(dir_name+'/studentInfo.csv')\n",
    "studentRegistration_path=os.path.join(dir_name+'/studentRegistration.csv')\n",
    "#studentVle_path=os.path.join(dir_name+'/studentVle.csv')\n",
    "vle_path=os.path.join(dir_name+'/vle.csv')\n",
    "\n",
    "assessments_df=pd.read_csv(assessments_path)\n",
    "courses_df=pd.read_csv(courses_path)\n",
    "stu_assess_df=pd.read_csv(studentAssessment_path)\n",
    "stu_info_df=pd.read_csv(studentInfo_path)\n",
    "stu_registration_df=pd.read_csv(studentRegistration_path)\n",
    "#stu_vle_df=pd.read_csv(studentVle_path)\n",
    "vle_df=pd.read_csv(vle_path)"
   ]
  },
  {
   "cell_type": "markdown",
   "metadata": {},
   "source": [
    "## utility functions written so far\n",
    "***"
   ]
  },
  {
   "cell_type": "markdown",
   "metadata": {},
   "source": [
    "### To get basic characteristics I usually look for in a dataframe"
   ]
  },
  {
   "cell_type": "code",
   "execution_count": 9,
   "metadata": {},
   "outputs": [],
   "source": [
    "def infoOnDf(df,name_of_df=''):\n",
    "    infoDict={\"Name of the DataFrame\":name_of_df}\n",
    "    #add the dimension information\n",
    "    dim=df.shape\n",
    "    infoDict['Dimension']=dim\n",
    "    #Add column names and associated datatypes information in a list\n",
    "    infoDict['Data Types of Columns']=df.dtypes\n",
    "    return infoDict\n",
    "\n",
    "def infoOnDf_full(df,name_of_df=''):\n",
    "    infoDict={\"Name of the DataFrame\":name_of_df}\n",
    "    #add the dimension information\n",
    "    dim=df.shape\n",
    "    infoDict['Dimension']=dim\n",
    "    #Add column names and associated datatypes information in a list\n",
    "    infoDict['Data Types of Columns']=df.dtypes\n",
    "    infoDict['First few rows']=df.head()\n",
    "    infoDict['Brief Stats of df']=df.describe()\n",
    "    return infoDict"
   ]
  },
  {
   "cell_type": "markdown",
   "metadata": {},
   "source": [
    "### To print pretty the returned dictionary of the above function"
   ]
  },
  {
   "cell_type": "code",
   "execution_count": 10,
   "metadata": {},
   "outputs": [],
   "source": [
    "def printDictPretty(dict):\n",
    "    for key,value in dict.items():\n",
    "        print(key)\n",
    "        print('\\n')\n",
    "        print(value)\n",
    "        print('\\n')\n"
   ]
  },
  {
   "cell_type": "markdown",
   "metadata": {},
   "source": [
    "### To changethe XXXXB and XXXXJ into XXXX_Feb and XXXX_Oct, respectively "
   ]
  },
  {
   "cell_type": "markdown",
   "metadata": {},
   "source": [
    "### And to apply to the an entire column"
   ]
  },
  {
   "cell_type": "markdown",
   "metadata": {},
   "source": [
    "### They were used to add a new column to the original df"
   ]
  },
  {
   "cell_type": "code",
   "execution_count": 11,
   "metadata": {},
   "outputs": [],
   "source": [
    "def BtoFeb(yearTerm):\n",
    "    yearMonth=yearTerm.replace(\"B\",\"_Feb\",1)\n",
    "    return yearMonth\n",
    "\n",
    "def JtoOct(yearTerm):\n",
    "    yearMonth=yearTerm.replace(\"J\",\"_Oct\",1)\n",
    "    return yearMonth\n",
    "\n",
    "def termToMonth(yearTerm):\n",
    "    if yearTerm[4]==\"B\":\n",
    "        yearMonth=BtoFeb(yearTerm)\n",
    "    if yearTerm[4]==\"J\":\n",
    "        yearMonth=JtoOct(yearTerm)\n",
    "    else:\n",
    "        yearMonth=yearTerm\n",
    "    return yearMonth\n"
   ]
  },
  {
   "cell_type": "markdown",
   "metadata": {},
   "source": [
    "### To check if there are duplicate entries in each course+each session"
   ]
  },
  {
   "cell_type": "code",
   "execution_count": 12,
   "metadata": {},
   "outputs": [],
   "source": [
    "def checkDuplicates(df,module_name=\"AAA\",presentation=\"2013J\"):\n",
    "    course=df[df['code_module']==module_name]\n",
    "    session=course[course['code_presentation']==presentation]\n",
    "    registeredStudents=session.id_student\n",
    "    n_student=len(registeredStudents)\n",
    "    uniqueStudents=len(registeredStudents.unique())\n",
    "    if uniqueStudents == n_student:\n",
    "        return True\n",
    "    else:\n",
    "        return False"
   ]
  },
  {
   "cell_type": "markdown",
   "metadata": {},
   "source": [
    "### To check if a student has completed the course"
   ]
  },
  {
   "cell_type": "markdown",
   "metadata": {},
   "source": [
    "### It was used to add a new column to the original df"
   ]
  },
  {
   "cell_type": "code",
   "execution_count": 13,
   "metadata": {},
   "outputs": [],
   "source": [
    "def isCompleted(unreg_record):\n",
    "    #if date_unregistration is ?? then yes\n",
    "    if unreg_record=='?':\n",
    "        return True\n",
    "    else:\n",
    "        return False"
   ]
  },
  {
   "cell_type": "markdown",
   "metadata": {},
   "source": [
    "### To generate a statistics on how many student registered and how many have finished the course"
   ]
  },
  {
   "cell_type": "code",
   "execution_count": 60,
   "metadata": {},
   "outputs": [],
   "source": [
    "def generateRegStats(df,module_name=\"AAA\",presentation=\"2013J\"):\n",
    "    pass\n",
    "    #Count the number of registered students at the beginning\n",
    "    course=df[df['code_module']==module_name]\n",
    "    session=course[course['code_presentation_month']==presentation]\n",
    "    n_registered=session.id_student.size\n",
    "    n_completed=session[session['completed']].id_student.size\n",
    "    #statsDict={\"Module Code\":module_name,\"Presentation\":presentation,\"Registered Students\":n_registered,\"Completed Students\":n_completed}\n",
    "    #Cuz I need to return a row of a df\n",
    "    return([module_name,presentation,n_registered,n_completed])"
   ]
  },
  {
   "cell_type": "markdown",
   "metadata": {},
   "source": [
    "## Load the necessary Datasets. In this notebook, I will only download the student registration Dataset, which I worked with. The codes for loading other datasets are in the April_21_EDA_on_Courses_data notebook"
   ]
  },
  {
   "cell_type": "code",
   "execution_count": 15,
   "metadata": {},
   "outputs": [],
   "source": [
    "studentRegistration_path=os.path.join(dir_name+'/studentRegistration.csv')\n",
    "stu_registration_df=pd.read_csv(studentRegistration_path)"
   ]
  },
  {
   "cell_type": "markdown",
   "metadata": {},
   "source": [
    "## Let's have a look at the original dataset"
   ]
  },
  {
   "cell_type": "code",
   "execution_count": 16,
   "metadata": {},
   "outputs": [
    {
     "data": {
      "text/html": [
       "<div>\n",
       "<style scoped>\n",
       "    .dataframe tbody tr th:only-of-type {\n",
       "        vertical-align: middle;\n",
       "    }\n",
       "\n",
       "    .dataframe tbody tr th {\n",
       "        vertical-align: top;\n",
       "    }\n",
       "\n",
       "    .dataframe thead th {\n",
       "        text-align: right;\n",
       "    }\n",
       "</style>\n",
       "<table border=\"1\" class=\"dataframe\">\n",
       "  <thead>\n",
       "    <tr style=\"text-align: right;\">\n",
       "      <th></th>\n",
       "      <th>code_module</th>\n",
       "      <th>code_presentation</th>\n",
       "      <th>id_student</th>\n",
       "      <th>date_registration</th>\n",
       "      <th>date_unregistration</th>\n",
       "    </tr>\n",
       "  </thead>\n",
       "  <tbody>\n",
       "    <tr>\n",
       "      <th>0</th>\n",
       "      <td>AAA</td>\n",
       "      <td>2013J</td>\n",
       "      <td>11391</td>\n",
       "      <td>-159</td>\n",
       "      <td>?</td>\n",
       "    </tr>\n",
       "    <tr>\n",
       "      <th>1</th>\n",
       "      <td>AAA</td>\n",
       "      <td>2013J</td>\n",
       "      <td>28400</td>\n",
       "      <td>-53</td>\n",
       "      <td>?</td>\n",
       "    </tr>\n",
       "    <tr>\n",
       "      <th>2</th>\n",
       "      <td>AAA</td>\n",
       "      <td>2013J</td>\n",
       "      <td>30268</td>\n",
       "      <td>-92</td>\n",
       "      <td>12</td>\n",
       "    </tr>\n",
       "    <tr>\n",
       "      <th>3</th>\n",
       "      <td>AAA</td>\n",
       "      <td>2013J</td>\n",
       "      <td>31604</td>\n",
       "      <td>-52</td>\n",
       "      <td>?</td>\n",
       "    </tr>\n",
       "    <tr>\n",
       "      <th>4</th>\n",
       "      <td>AAA</td>\n",
       "      <td>2013J</td>\n",
       "      <td>32885</td>\n",
       "      <td>-176</td>\n",
       "      <td>?</td>\n",
       "    </tr>\n",
       "    <tr>\n",
       "      <th>5</th>\n",
       "      <td>AAA</td>\n",
       "      <td>2013J</td>\n",
       "      <td>38053</td>\n",
       "      <td>-110</td>\n",
       "      <td>?</td>\n",
       "    </tr>\n",
       "    <tr>\n",
       "      <th>6</th>\n",
       "      <td>AAA</td>\n",
       "      <td>2013J</td>\n",
       "      <td>45462</td>\n",
       "      <td>-67</td>\n",
       "      <td>?</td>\n",
       "    </tr>\n",
       "    <tr>\n",
       "      <th>7</th>\n",
       "      <td>AAA</td>\n",
       "      <td>2013J</td>\n",
       "      <td>45642</td>\n",
       "      <td>-29</td>\n",
       "      <td>?</td>\n",
       "    </tr>\n",
       "    <tr>\n",
       "      <th>8</th>\n",
       "      <td>AAA</td>\n",
       "      <td>2013J</td>\n",
       "      <td>52130</td>\n",
       "      <td>-33</td>\n",
       "      <td>?</td>\n",
       "    </tr>\n",
       "    <tr>\n",
       "      <th>9</th>\n",
       "      <td>AAA</td>\n",
       "      <td>2013J</td>\n",
       "      <td>53025</td>\n",
       "      <td>-179</td>\n",
       "      <td>?</td>\n",
       "    </tr>\n",
       "  </tbody>\n",
       "</table>\n",
       "</div>"
      ],
      "text/plain": [
       "  code_module code_presentation  id_student date_registration  \\\n",
       "0         AAA             2013J       11391              -159   \n",
       "1         AAA             2013J       28400               -53   \n",
       "2         AAA             2013J       30268               -92   \n",
       "3         AAA             2013J       31604               -52   \n",
       "4         AAA             2013J       32885              -176   \n",
       "5         AAA             2013J       38053              -110   \n",
       "6         AAA             2013J       45462               -67   \n",
       "7         AAA             2013J       45642               -29   \n",
       "8         AAA             2013J       52130               -33   \n",
       "9         AAA             2013J       53025              -179   \n",
       "\n",
       "  date_unregistration  \n",
       "0                   ?  \n",
       "1                   ?  \n",
       "2                  12  \n",
       "3                   ?  \n",
       "4                   ?  \n",
       "5                   ?  \n",
       "6                   ?  \n",
       "7                   ?  \n",
       "8                   ?  \n",
       "9                   ?  "
      ]
     },
     "execution_count": 16,
     "metadata": {},
     "output_type": "execute_result"
    }
   ],
   "source": [
    "stu_registration_df.head(10)"
   ]
  },
  {
   "cell_type": "markdown",
   "metadata": {},
   "source": [
    "### What I am going to add:\n",
    "1. add a column named code_presentation_month which will store the code representation in the format of months instead of B or J.\n",
    "2. add a column named completed that indicates if a studnet finished the course without withdrawsing. It was mappedfrom date_unregistration column \n",
    "3. contstruct a new dataframe that stores the number of students registered for each class and the number of students who finished the course."
   ]
  },
  {
   "cell_type": "markdown",
   "metadata": {},
   "source": [
    "#### 1."
   ]
  },
  {
   "cell_type": "code",
   "execution_count": 17,
   "metadata": {},
   "outputs": [],
   "source": [
    "stu_registration_df['code_presentation_month']=stu_registration_df.code_presentation.apply(termToMonth)"
   ]
  },
  {
   "cell_type": "markdown",
   "metadata": {},
   "source": [
    "#### 2."
   ]
  },
  {
   "cell_type": "code",
   "execution_count": 18,
   "metadata": {},
   "outputs": [],
   "source": [
    "stu_registration_df['completed']=stu_registration_df.date_unregistration.apply(isCompleted)"
   ]
  },
  {
   "cell_type": "markdown",
   "metadata": {},
   "source": [
    "#### 3."
   ]
  },
  {
   "cell_type": "code",
   "execution_count": 86,
   "metadata": {},
   "outputs": [],
   "source": [
    "#registrationStatistics=pd.DataFrame(columns = ['code_module','code_presentation_month','n_students_beg','n_students_end'])\n",
    "#registrationStatistics=pd.DataFrame()\n",
    "registrationStatistics=list()"
   ]
  },
  {
   "cell_type": "code",
   "execution_count": 87,
   "metadata": {},
   "outputs": [],
   "source": [
    "module_list=['AAA']\n",
    "presentation_list=['2013_Oct','2014_Oct']\n",
    "for m in module_list:\n",
    "    for session in presentation_list:\n",
    "        new_stats=generateRegStats(stu_registration_df,module_name=m,presentation=session)\n",
    "        #new_stats=pd.DataFrame(np.array(new_stats))\n",
    "        #registrationStatistics=pd.concat([registrationStatistics,new_stats],axis=1)\n",
    "        egistrationStatistics=registrationStatistics.append(new_stats)"
   ]
  },
  {
   "cell_type": "code",
   "execution_count": 88,
   "metadata": {},
   "outputs": [
    {
     "name": "stdout",
     "output_type": "stream",
     "text": [
      "[['AAA', '2013_Oct', 383, 323], ['AAA', '2014_Oct', 365, 299]]\n"
     ]
    }
   ],
   "source": [
    "print(registrationStatistics)"
   ]
  },
  {
   "cell_type": "code",
   "execution_count": 90,
   "metadata": {},
   "outputs": [
    {
     "data": {
      "text/html": [
       "<div>\n",
       "<style scoped>\n",
       "    .dataframe tbody tr th:only-of-type {\n",
       "        vertical-align: middle;\n",
       "    }\n",
       "\n",
       "    .dataframe tbody tr th {\n",
       "        vertical-align: top;\n",
       "    }\n",
       "\n",
       "    .dataframe thead th {\n",
       "        text-align: right;\n",
       "    }\n",
       "</style>\n",
       "<table border=\"1\" class=\"dataframe\">\n",
       "  <thead>\n",
       "    <tr style=\"text-align: right;\">\n",
       "      <th></th>\n",
       "      <th>code_module</th>\n",
       "      <th>code_presentation_month</th>\n",
       "      <th>n_students_beg</th>\n",
       "      <th>n_students_end</th>\n",
       "    </tr>\n",
       "  </thead>\n",
       "  <tbody>\n",
       "    <tr>\n",
       "      <th>0</th>\n",
       "      <td>AAA</td>\n",
       "      <td>2013_Oct</td>\n",
       "      <td>383</td>\n",
       "      <td>323</td>\n",
       "    </tr>\n",
       "    <tr>\n",
       "      <th>1</th>\n",
       "      <td>AAA</td>\n",
       "      <td>2014_Oct</td>\n",
       "      <td>365</td>\n",
       "      <td>299</td>\n",
       "    </tr>\n",
       "  </tbody>\n",
       "</table>\n",
       "</div>"
      ],
      "text/plain": [
       "  code_module code_presentation_month  n_students_beg  n_students_end\n",
       "0         AAA                2013_Oct             383             323\n",
       "1         AAA                2014_Oct             365             299"
      ]
     },
     "execution_count": 90,
     "metadata": {},
     "output_type": "execute_result"
    }
   ],
   "source": [
    "pd.DataFrame(registrationStatistics,columns = ['code_module','code_presentation_month','n_students_beg','n_students_end'])"
   ]
  },
  {
   "cell_type": "markdown",
   "metadata": {},
   "source": [
    "#### 3. Cleaner..."
   ]
  },
  {
   "cell_type": "code",
   "execution_count": 91,
   "metadata": {},
   "outputs": [],
   "source": [
    "registrationStatistics=list()\n",
    "module_list=['AAA']\n",
    "presentation_list=['2013_Oct','2014_Oct']"
   ]
  },
  {
   "cell_type": "code",
   "execution_count": 92,
   "metadata": {},
   "outputs": [],
   "source": [
    "for m in module_list:\n",
    "    for session in presentation_list:\n",
    "        new_stats=generateRegStats(stu_registration_df,module_name=m,presentation=session)\n",
    "        egistrationStatistics=registrationStatistics.append(new_stats)"
   ]
  },
  {
   "cell_type": "code",
   "execution_count": 93,
   "metadata": {},
   "outputs": [],
   "source": [
    "registrationStatistics=pd.DataFrame(registrationStatistics,columns = ['code_module','code_presentation_month','n_students_beg','n_students_end'])"
   ]
  },
  {
   "cell_type": "code",
   "execution_count": 94,
   "metadata": {},
   "outputs": [
    {
     "data": {
      "text/html": [
       "<div>\n",
       "<style scoped>\n",
       "    .dataframe tbody tr th:only-of-type {\n",
       "        vertical-align: middle;\n",
       "    }\n",
       "\n",
       "    .dataframe tbody tr th {\n",
       "        vertical-align: top;\n",
       "    }\n",
       "\n",
       "    .dataframe thead th {\n",
       "        text-align: right;\n",
       "    }\n",
       "</style>\n",
       "<table border=\"1\" class=\"dataframe\">\n",
       "  <thead>\n",
       "    <tr style=\"text-align: right;\">\n",
       "      <th></th>\n",
       "      <th>code_module</th>\n",
       "      <th>code_presentation_month</th>\n",
       "      <th>n_students_beg</th>\n",
       "      <th>n_students_end</th>\n",
       "    </tr>\n",
       "  </thead>\n",
       "  <tbody>\n",
       "    <tr>\n",
       "      <th>0</th>\n",
       "      <td>AAA</td>\n",
       "      <td>2013_Oct</td>\n",
       "      <td>383</td>\n",
       "      <td>323</td>\n",
       "    </tr>\n",
       "    <tr>\n",
       "      <th>1</th>\n",
       "      <td>AAA</td>\n",
       "      <td>2014_Oct</td>\n",
       "      <td>365</td>\n",
       "      <td>299</td>\n",
       "    </tr>\n",
       "  </tbody>\n",
       "</table>\n",
       "</div>"
      ],
      "text/plain": [
       "  code_module code_presentation_month  n_students_beg  n_students_end\n",
       "0         AAA                2013_Oct             383             323\n",
       "1         AAA                2014_Oct             365             299"
      ]
     },
     "execution_count": 94,
     "metadata": {},
     "output_type": "execute_result"
    }
   ],
   "source": [
    "registrationStatistics"
   ]
  },
  {
   "cell_type": "markdown",
   "metadata": {},
   "source": [
    "## Visualization"
   ]
  },
  {
   "cell_type": "markdown",
   "metadata": {},
   "source": [
    "## Let's see how many students registered for eachterm, and how many have finished the course"
   ]
  },
  {
   "cell_type": "code",
   "execution_count": 102,
   "metadata": {},
   "outputs": [
    {
     "data": {
      "image/png": "[encoded data removed]",
      "text/plain": [
       "<Figure size 432x288 with 1 Axes>"
      ]
     },
     "metadata": {
      "needs_background": "light"
     },
     "output_type": "display_data"
    }
   ],
   "source": [
    "plt.plot(registrationStatistics.code_presentation_month,registrationStatistics.n_students_beg,color='g')\n",
    "plt.plot(registrationStatistics.code_presentation_month,registrationStatistics.n_students_end,color='blue')\n",
    "plt.xlabel('Term')\n",
    "plt.ylabel('Number of Students')\n",
    "plt.ylim(150, 450)\n",
    "plt.title('Registration vs Completed for course AAA')\n",
    "plt.show()"
   ]
  },
  {
   "cell_type": "code",
   "execution_count": null,
   "metadata": {},
   "outputs": [],
   "source": []
  }
 ],
 "metadata": {
  "kernelspec": {
   "display_name": "Python 3",
   "language": "python",
   "name": "python3"
  },
  "language_info": {
   "codemirror_mode": {
    "name": "ipython",
    "version": 3
   },
   "file_extension": ".py",
   "mimetype": "text/x-python",
   "name": "python",
   "nbconvert_exporter": "python",
   "pygments_lexer": "ipython3",
   "version": "3.6.8"
  }
 },
 "nbformat": 4,
 "nbformat_minor": 2
}
